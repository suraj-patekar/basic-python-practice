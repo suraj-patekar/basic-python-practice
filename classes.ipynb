{
 "cells": [
  {
   "cell_type": "code",
   "execution_count": null,
   "id": "fa87abf0",
   "metadata": {},
   "outputs": [],
   "source": [
    "'_' in dir(__builtins__)"
   ]
  },
  {
   "cell_type": "code",
   "execution_count": null,
   "id": "054d3342",
   "metadata": {},
   "outputs": [],
   "source": [
    "1+1"
   ]
  },
  {
   "cell_type": "code",
   "execution_count": null,
   "id": "6398bbea",
   "metadata": {},
   "outputs": [],
   "source": [
    "'_' in dir(__builtins__)"
   ]
  },
  {
   "cell_type": "code",
   "execution_count": null,
   "id": "9b06ce33",
   "metadata": {},
   "outputs": [],
   "source": [
    "'_' in dir(__builtins__)\n"
   ]
  },
  {
   "cell_type": "code",
   "execution_count": null,
   "id": "903303a3",
   "metadata": {},
   "outputs": [],
   "source": [
    "_\n"
   ]
  },
  {
   "cell_type": "code",
   "execution_count": null,
   "id": "f0718109",
   "metadata": {},
   "outputs": [],
   "source": []
  },
  {
   "cell_type": "code",
   "execution_count": null,
   "id": "efd5d72a",
   "metadata": {},
   "outputs": [],
   "source": [
    "for _ in range(10):\n",
    "    print(\"I don't care about index\")"
   ]
  },
  {
   "cell_type": "code",
   "execution_count": null,
   "id": "b82fb882",
   "metadata": {},
   "outputs": [],
   "source": [
    "year, month, day, _,  _, _ = (2020, 7, 10, 12, 10, 59) # year=2020, month=7, day=10\n",
    "print(_) # 59"
   ]
  },
  {
   "cell_type": "code",
   "execution_count": null,
   "id": "0958783f",
   "metadata": {},
   "outputs": [],
   "source": [
    "year, *_, second = (2020, 7, 10, 12, 10, 59) # year=2020 \n",
    "print(_) # [7, 10, 12, 10]\n"
   ]
  },
  {
   "cell_type": "code",
   "execution_count": null,
   "id": "f73fcdcc",
   "metadata": {},
   "outputs": [],
   "source": [
    "integer = 1_000\n",
    "amount = 1_000_000.1\n",
    "binary = 0b_0100_1110\n",
    "hex = 0xCAFE_F00D"
   ]
  },
  {
   "cell_type": "code",
   "execution_count": null,
   "id": "fab10b78",
   "metadata": {},
   "outputs": [],
   "source": [
    "print(integer)"
   ]
  },
  {
   "cell_type": "code",
   "execution_count": null,
   "id": "070bfe94",
   "metadata": {},
   "outputs": [],
   "source": [
    "print(amount)"
   ]
  },
  {
   "cell_type": "code",
   "execution_count": null,
   "id": "104c84ac",
   "metadata": {},
   "outputs": [],
   "source": [
    "print(binary)"
   ]
  },
  {
   "cell_type": "code",
   "execution_count": null,
   "id": "291368cd",
   "metadata": {},
   "outputs": [],
   "source": [
    "print(hex)"
   ]
  },
  {
   "cell_type": "code",
   "execution_count": null,
   "id": "9dac7521",
   "metadata": {},
   "outputs": [],
   "source": [
    "class Time:\n",
    "    def __init__(self, year, month):\n",
    "        self.year = year\n",
    "        self._month = month\n",
    "        self.__day = 1\n",
    "\n",
    "    def get_day(self):\n",
    "        return self.__day\n",
    "    \n",
    "    @property\n",
    "    def day_property(self):\n",
    "        return self.__day\n",
    "      \n",
    "time = Time(2020, 7)\n",
    "print(time.get_day())"
   ]
  },
  {
   "cell_type": "code",
   "execution_count": null,
   "id": "141d6329",
   "metadata": {},
   "outputs": [],
   "source": [
    "# Python program to execute\n",
    "# main directly\n",
    "print (\"Always executed\")\n",
    "\n",
    "if __name__ == \"__main__\":\n",
    "\tprint (\"Executed when invoked directly\")\n",
    "else:\n",
    "\tprint (\"Executed when imported\")\n"
   ]
  },
  {
   "cell_type": "code",
   "execution_count": null,
   "id": "1319f735",
   "metadata": {},
   "outputs": [],
   "source": [
    "print(\"before import\")\n",
    "import math\n",
    "\n",
    "print(\"before function_a\")\n",
    "def function_a():\n",
    "    print(\"Function A\")\n",
    "\n",
    "print(\"before function_b\")\n",
    "def function_b():\n",
    "    print(\"Function B {}\".format(math.sqrt(100)))\n",
    "\n",
    "print(\"before __name__ guard\")\n",
    "if __name__ == '__main__':\n",
    "    function_a()\n",
    "    function_b()\n",
    "print(\"after __name__ guard\")"
   ]
  },
  {
   "cell_type": "code",
   "execution_count": null,
   "id": "a0e3afbc",
   "metadata": {},
   "outputs": [],
   "source": [
    "import os"
   ]
  },
  {
   "cell_type": "code",
   "execution_count": null,
   "id": "7d0989d6",
   "metadata": {},
   "outputs": [],
   "source": [
    "os.environron"
   ]
  },
  {
   "cell_type": "code",
   "execution_count": null,
   "id": "0f040c2d",
   "metadata": {},
   "outputs": [],
   "source": [
    "import json\n"
   ]
  },
  {
   "cell_type": "code",
   "execution_count": null,
   "id": "903442f8",
   "metadata": {},
   "outputs": [],
   "source": [
    "x =  '{ \"name\":\"John\", \"age\":30, \"city\":\"New York\"}'\n"
   ]
  },
  {
   "cell_type": "code",
   "execution_count": null,
   "id": "fa0aa88a",
   "metadata": {},
   "outputs": [],
   "source": [
    "y = json.loads(x)   # converts json string to python object"
   ]
  },
  {
   "cell_type": "code",
   "execution_count": null,
   "id": "c91635a0",
   "metadata": {},
   "outputs": [],
   "source": [
    "y"
   ]
  },
  {
   "cell_type": "code",
   "execution_count": null,
   "id": "f89d9091",
   "metadata": {},
   "outputs": [],
   "source": [
    "y['age']"
   ]
  },
  {
   "cell_type": "code",
   "execution_count": null,
   "id": "0fc412d8",
   "metadata": {},
   "outputs": [],
   "source": [
    "a = {\n",
    "  \"name\": \"John\",\n",
    "  \"age\": 30,\n",
    "  \"city\": \"New York\"\n",
    "}"
   ]
  },
  {
   "cell_type": "code",
   "execution_count": null,
   "id": "3046fb23",
   "metadata": {},
   "outputs": [],
   "source": [
    "# convert python object to json"
   ]
  },
  {
   "cell_type": "code",
   "execution_count": null,
   "id": "1e4fc3c2",
   "metadata": {},
   "outputs": [],
   "source": [
    "b = json.dumps(a)"
   ]
  },
  {
   "cell_type": "code",
   "execution_count": null,
   "id": "7617d81d",
   "metadata": {},
   "outputs": [],
   "source": [
    "b"
   ]
  },
  {
   "cell_type": "code",
   "execution_count": null,
   "id": "9e5b4bed",
   "metadata": {},
   "outputs": [],
   "source": [
    "print(json.dumps({\"name\": \"John\", \"age\": 30}))"
   ]
  },
  {
   "cell_type": "code",
   "execution_count": null,
   "id": "e07b5b35",
   "metadata": {},
   "outputs": [],
   "source": [
    "print(b)"
   ]
  },
  {
   "cell_type": "code",
   "execution_count": null,
   "id": "30517794",
   "metadata": {},
   "outputs": [],
   "source": [
    "type(json.dumps([\"apple\", \"bananas\"]))"
   ]
  },
  {
   "cell_type": "code",
   "execution_count": null,
   "id": "d74ac883",
   "metadata": {},
   "outputs": [],
   "source": [
    "json.dumps([\"apple\", \"bananas\"])"
   ]
  },
  {
   "cell_type": "code",
   "execution_count": null,
   "id": "ff9a78f2",
   "metadata": {},
   "outputs": [],
   "source": [
    "print(json.dumps(42))"
   ]
  },
  {
   "cell_type": "code",
   "execution_count": null,
   "id": "f6421a0c",
   "metadata": {},
   "outputs": [],
   "source": [
    "type(json.dumps(42))"
   ]
  },
  {
   "cell_type": "code",
   "execution_count": null,
   "id": "0bcd9d60",
   "metadata": {},
   "outputs": [],
   "source": [
    "x = {\n",
    "  \"name\": \"John\",\n",
    "  \"age\": 30,\n",
    "  \"married\": True,\n",
    "  \"divorced\": False,\n",
    "  \"children\": (\"Ann\",\"Billy\"),\n",
    "  \"pets\": None,\n",
    "  \"cars\": [\n",
    "    {\"model\": \"BMW 230\", \"mpg\": 27.5},\n",
    "    {\"model\": \"Ford Edge\", \"mpg\": 24.1}\n",
    "  ]\n",
    "}"
   ]
  },
  {
   "cell_type": "code",
   "execution_count": null,
   "id": "7c20afa1",
   "metadata": {},
   "outputs": [],
   "source": [
    "print(json.dumps(x))"
   ]
  },
  {
   "cell_type": "code",
   "execution_count": null,
   "id": "84d08b8a",
   "metadata": {},
   "outputs": [],
   "source": [
    "print(json.dumps(x, indent=4 ))"
   ]
  },
  {
   "cell_type": "code",
   "execution_count": null,
   "id": "760e15e8",
   "metadata": {},
   "outputs": [],
   "source": [
    "print(json.dumps(x, indent=4, separators=(\". \", \" = \")))\n"
   ]
  },
  {
   "cell_type": "code",
   "execution_count": null,
   "id": "3da14232",
   "metadata": {},
   "outputs": [],
   "source": [
    "print(json.dumps(x, indent=4, sort_keys=True))"
   ]
  },
  {
   "cell_type": "code",
   "execution_count": null,
   "id": "058366b6",
   "metadata": {},
   "outputs": [],
   "source": [
    "import logging"
   ]
  },
  {
   "cell_type": "code",
   "execution_count": null,
   "id": "efee768a",
   "metadata": {},
   "outputs": [],
   "source": [
    "logging.basicConfig(filename=\"newfile.log\",\n",
    "                    format='%(asctime)s %(message)s',\n",
    "                    filemode='w')"
   ]
  },
  {
   "cell_type": "code",
   "execution_count": null,
   "id": "abc57f51",
   "metadata": {},
   "outputs": [],
   "source": [
    "# creating a logging object\n",
    "logger = logging.getLogger()"
   ]
  },
  {
   "cell_type": "code",
   "execution_count": null,
   "id": "c770b31c",
   "metadata": {},
   "outputs": [],
   "source": [
    "logger.setLevel(logging.DEBUG)"
   ]
  },
  {
   "cell_type": "code",
   "execution_count": null,
   "id": "1e735b13",
   "metadata": {},
   "outputs": [],
   "source": [
    "logger.debug(\"Harmless debug Message\")\n",
    "logger.info(\"Just an information\")\n",
    "logger.warning(\"Its a Warning\")\n",
    "logger.error(\"Did you try to divide by zero\")\n",
    "logger.critical(\"Internet is down\")"
   ]
  },
  {
   "cell_type": "code",
   "execution_count": null,
   "id": "0b6c4b22",
   "metadata": {},
   "outputs": [],
   "source": [
    "import traceback"
   ]
  },
  {
   "cell_type": "code",
   "execution_count": null,
   "id": "0668b9ed",
   "metadata": {},
   "outputs": [],
   "source": [
    "A = [1, 2, 3, 4]"
   ]
  },
  {
   "cell_type": "code",
   "execution_count": null,
   "id": "e1b18390",
   "metadata": {},
   "outputs": [],
   "source": [
    "try:\n",
    "    value = A[5]\n",
    "except:\n",
    "    traceback.print_exc()\n",
    "\n",
    "print(\"end of program\")"
   ]
  },
  {
   "cell_type": "code",
   "execution_count": null,
   "id": "0e4a7058",
   "metadata": {},
   "outputs": [],
   "source": [
    "import sys\n",
    "  \n",
    "a=3\n",
    "b=0\n",
    "try:\n",
    "    a/b\n",
    "except Exception as e:\n",
    "    exc_type, exc_value, exc_tb = sys.exc_info()\n",
    "    tb = traceback.TracebackException(exc_type, exc_value, exc_tb)\n",
    "    print(''.join(tb.format_exception_only()))"
   ]
  },
  {
   "cell_type": "code",
   "execution_count": null,
   "id": "c8c1f9ba",
   "metadata": {},
   "outputs": [],
   "source": [
    "sys.exc_info()"
   ]
  },
  {
   "cell_type": "code",
   "execution_count": null,
   "id": "c83fdc24",
   "metadata": {},
   "outputs": [],
   "source": [
    "def call1(f):\n",
    "  \n",
    "  # inside call1()\n",
    "  # call1() calling call2()\n",
    "  call2(f)\n",
    "def call2(f):\n",
    "  # inside call2()\n",
    "  # calling f()\n",
    "     f()\n",
    "def f():\n",
    "    \n",
    "    # inside f()\n",
    "    summary = traceback.StackSummary.extract(\n",
    "        traceback.walk_stack(None)\n",
    "    )\n",
    "    print(''.join(summary.format()))\n",
    "  \n",
    "# calling f() using call1()\n",
    "call1(f)"
   ]
  },
  {
   "cell_type": "code",
   "execution_count": null,
   "id": "cc0b04c5",
   "metadata": {},
   "outputs": [],
   "source": [
    "from enum import Enum"
   ]
  },
  {
   "cell_type": "code",
   "execution_count": null,
   "id": "8de86d67",
   "metadata": {},
   "outputs": [],
   "source": [
    "class Season(Enum):\n",
    "    SPRING = 1\n",
    "    SUMMER = 2\n",
    "    AUTUMN = 3\n",
    "    WINTER = 4"
   ]
  },
  {
   "cell_type": "code",
   "execution_count": null,
   "id": "c86d0a1d",
   "metadata": {},
   "outputs": [],
   "source": [
    "print(Season.SPRING)"
   ]
  },
  {
   "cell_type": "code",
   "execution_count": null,
   "id": "5104f950",
   "metadata": {},
   "outputs": [],
   "source": [
    "print(Season.SPRING.name)"
   ]
  },
  {
   "cell_type": "code",
   "execution_count": null,
   "id": "c830ae5d",
   "metadata": {},
   "outputs": [],
   "source": [
    "print(Season.SPRING.value)"
   ]
  },
  {
   "cell_type": "code",
   "execution_count": null,
   "id": "926eb4cf",
   "metadata": {},
   "outputs": [],
   "source": [
    "print(Season.WINTER)"
   ]
  },
  {
   "cell_type": "code",
   "execution_count": null,
   "id": "b12f78e3",
   "metadata": {},
   "outputs": [],
   "source": [
    "print(Season.WINTER.value)"
   ]
  },
  {
   "cell_type": "code",
   "execution_count": null,
   "id": "e9502dde",
   "metadata": {},
   "outputs": [],
   "source": [
    "print(type(Season.SPRING))"
   ]
  },
  {
   "cell_type": "code",
   "execution_count": null,
   "id": "2c518fbc",
   "metadata": {},
   "outputs": [],
   "source": [
    "print(repr(Season.SPRING))"
   ]
  },
  {
   "cell_type": "code",
   "execution_count": null,
   "id": "55432f5d",
   "metadata": {},
   "outputs": [],
   "source": [
    "print(list(Season))"
   ]
  },
  {
   "cell_type": "code",
   "execution_count": null,
   "id": "c8159005",
   "metadata": {},
   "outputs": [],
   "source": [
    "print(\"The enum member associated with value 2 is : \", Season(2).name)"
   ]
  },
  {
   "cell_type": "code",
   "execution_count": null,
   "id": "1876c8db",
   "metadata": {},
   "outputs": [],
   "source": [
    "print(\"The enum member associated with name AUTUMN is : \", Season['AUTUMN'].value)"
   ]
  },
  {
   "cell_type": "code",
   "execution_count": null,
   "id": "9c9e9c06",
   "metadata": {},
   "outputs": [],
   "source": [
    "for modes in Season:\n",
    "    print(modes, \"-\",modes.value)"
   ]
  },
  {
   "cell_type": "code",
   "execution_count": null,
   "id": "f832a0cf",
   "metadata": {},
   "outputs": [],
   "source": [
    "class Animal():\n",
    "    dog = 1\n",
    "    cat = 2\n",
    "    lion = 3"
   ]
  },
  {
   "cell_type": "code",
   "execution_count": null,
   "id": "edcdbb0b",
   "metadata": {},
   "outputs": [],
   "source": [
    "di = {}\n",
    "di[Animal.dog] = 'bark'\n",
    "di[Animal.lion] = 'roar'"
   ]
  },
  {
   "cell_type": "code",
   "execution_count": null,
   "id": "8e85afb4",
   "metadata": {},
   "outputs": [],
   "source": [
    "di"
   ]
  },
  {
   "cell_type": "code",
   "execution_count": null,
   "id": "5583ff53",
   "metadata": {},
   "outputs": [],
   "source": [
    "Animal.dog"
   ]
  },
  {
   "cell_type": "code",
   "execution_count": null,
   "id": "9096dce3",
   "metadata": {},
   "outputs": [],
   "source": [
    "import glob"
   ]
  },
  {
   "cell_type": "code",
   "execution_count": null,
   "id": "a7ec76ac",
   "metadata": {},
   "outputs": [],
   "source": [
    "print('Named explicitly:')\n",
    "for name in glob.glob('C:\\\\Users\\\\Suraj\\\\Desktop\\\\suraj'):\n",
    "    print(name)"
   ]
  },
  {
   "cell_type": "code",
   "execution_count": null,
   "id": "cff63a90",
   "metadata": {},
   "outputs": [],
   "source": [
    "print('\\nNamed with wildcard *:')\n",
    "for name in glob.glob('C:\\\\Users\\\\Suraj\\\\Desktop\\\\suraj\\\\*'):\n",
    "    print(name)"
   ]
  },
  {
   "cell_type": "code",
   "execution_count": null,
   "id": "29f38868",
   "metadata": {},
   "outputs": [],
   "source": [
    "print('\\nNamed with wildcard ?:')\n",
    "for name in glob.glob('C:\\\\Users\\\\Suraj\\\\Desktop\\\\suraj\\\\*[0-9].*'):\n",
    "    print(name)"
   ]
  },
  {
   "cell_type": "code",
   "execution_count": null,
   "id": "a4bc00ad",
   "metadata": {},
   "outputs": [],
   "source": [
    "def greeting(name: str) -> str:\n",
    "    return 'Hello ' + name"
   ]
  },
  {
   "cell_type": "code",
   "execution_count": null,
   "id": "db5f558c",
   "metadata": {},
   "outputs": [],
   "source": [
    "greeting('Suraj')"
   ]
  },
  {
   "cell_type": "code",
   "execution_count": null,
   "id": "918b569d",
   "metadata": {},
   "outputs": [],
   "source": [
    "Vector = list[float]\n",
    "\n",
    "def scale(scalar: float, vector: Vector) -> Vector:\n",
    "    return [scalar * num for num in vector]\n",
    "\n",
    "# typechecks; a list of floats qualifies as a Vector.\n",
    "new_vector = scale(2.0, [1.0, -4.2, 5.4])"
   ]
  },
  {
   "cell_type": "code",
   "execution_count": null,
   "id": "c745252e",
   "metadata": {},
   "outputs": [],
   "source": [
    "new_vector"
   ]
  },
  {
   "cell_type": "code",
   "execution_count": null,
   "id": "d64c928d",
   "metadata": {},
   "outputs": [],
   "source": [
    "from typing import NewType\n",
    "\n",
    "UserId = NewType('UserId', int)\n",
    "some_id = UserId(524313)"
   ]
  },
  {
   "cell_type": "code",
   "execution_count": null,
   "id": "57d08e42",
   "metadata": {},
   "outputs": [],
   "source": [
    "def get_user_name(user_id: UserId) -> str:\n",
    "    ...\n",
    "\n",
    "# typechecks\n",
    "user_a = get_user_name(UserId(42351))\n",
    "\n",
    "# does not typecheck; an int is not a UserId\n",
    "user_b = get_user_name(-1)"
   ]
  },
  {
   "cell_type": "code",
   "execution_count": null,
   "id": "5237da62",
   "metadata": {},
   "outputs": [],
   "source": [
    "print(user_a)"
   ]
  },
  {
   "cell_type": "code",
   "execution_count": null,
   "id": "828922f1",
   "metadata": {},
   "outputs": [],
   "source": [
    "user_b"
   ]
  },
  {
   "cell_type": "code",
   "execution_count": null,
   "id": "3631ff58",
   "metadata": {},
   "outputs": [],
   "source": [
    "output = UserId(23413) + UserId(54341)"
   ]
  },
  {
   "cell_type": "code",
   "execution_count": null,
   "id": "f8427136",
   "metadata": {},
   "outputs": [],
   "source": [
    "output"
   ]
  },
  {
   "cell_type": "code",
   "execution_count": null,
   "id": "4c3d2c70",
   "metadata": {},
   "outputs": [],
   "source": [
    "type(output)"
   ]
  },
  {
   "cell_type": "code",
   "execution_count": null,
   "id": "a8b6681b",
   "metadata": {},
   "outputs": [],
   "source": [
    "import pyodbc"
   ]
  },
  {
   "cell_type": "code",
   "execution_count": null,
   "id": "62dfa503",
   "metadata": {},
   "outputs": [],
   "source": [
    "cursor = connection.cursor()"
   ]
  },
  {
   "cell_type": "code",
   "execution_count": null,
   "id": "03fa9c95",
   "metadata": {},
   "outputs": [],
   "source": [
    "import socket"
   ]
  },
  {
   "cell_type": "code",
   "execution_count": null,
   "id": "386e974f",
   "metadata": {},
   "outputs": [],
   "source": [
    "s = socket.socket(socket.AF_INET, socket.SOCK_STREAM)"
   ]
  },
  {
   "cell_type": "code",
   "execution_count": null,
   "id": "e7ca26ba",
   "metadata": {},
   "outputs": [],
   "source": [
    "ip = socket.gethostbyname('www.google.com')\n",
    "print(ip)"
   ]
  },
  {
   "cell_type": "code",
   "execution_count": null,
   "id": "b9dffd0f",
   "metadata": {},
   "outputs": [],
   "source": [
    "try:\n",
    "    s = socket.socket(socket.AF_INET, socket.SOCK_STREAM)\n",
    "    print (\"Socket successfully created\")\n",
    "except socket.error as err:\n",
    "    print (\"socket creation failed with error %s\" %(err))"
   ]
  },
  {
   "cell_type": "code",
   "execution_count": null,
   "id": "f6b0e74b",
   "metadata": {},
   "outputs": [],
   "source": [
    "port = 80\n",
    " \n",
    "try:\n",
    "    host_ip = socket.gethostbyname('www.google.com')\n",
    "except socket.gaierror:\n",
    " \n",
    "    # this means could not resolve the host\n",
    "    print (\"there was an error resolving the host\")\n",
    "    sys.exit()"
   ]
  },
  {
   "cell_type": "code",
   "execution_count": null,
   "id": "9e2ac25b",
   "metadata": {},
   "outputs": [],
   "source": [
    "s.connect((host_ip, port))\n",
    " \n",
    "print (\"the socket has successfully connected to google\")"
   ]
  },
  {
   "cell_type": "code",
   "execution_count": null,
   "id": "44091af8",
   "metadata": {},
   "outputs": [],
   "source": [
    "# first of all import the socket library\n",
    "import socket\t\t\t\n",
    "\n",
    "# next create a socket object\n",
    "s = socket.socket()\t\t\n",
    "print (\"Socket successfully created\")\n",
    "\n",
    "# reserve a port on your computer in our\n",
    "# case it is 12345 but it can be anything\n",
    "port = 12345\t\t\t\n",
    "\n",
    "# Next bind to the port\n",
    "# we have not typed any ip in the ip field\n",
    "# instead we have inputted an empty string\n",
    "# this makes the server listen to requests\n",
    "# coming from other computers on the network\n",
    "s.bind(('', port))\t\t\n",
    "print (\"socket binded to %s\" %(port))\n",
    "\n",
    "# put the socket into listening mode\n",
    "s.listen(5)\t\n",
    "print (\"socket is listening\")\t\t\n",
    "\n",
    "# a forever loop until we interrupt it or\n",
    "# an error occurs\n",
    "while True:\n",
    "\n",
    "# Establish connection with client.\n",
    "    c, addr = s.accept()\t\n",
    "    print ('Got connection from', addr )\n",
    "\n",
    "    # send a thank you message to the client. encoding to send byte type.\n",
    "    c.send('Thank you for connecting'.encode())\n",
    "\n",
    "    # Close the connection with the client\n",
    "    c.close()\n",
    "\n",
    "    # Breaking once connection closed\n",
    "    break\n"
   ]
  },
  {
   "cell_type": "code",
   "execution_count": null,
   "id": "de4cc733",
   "metadata": {},
   "outputs": [],
   "source": [
    "# Import PurePath class\n",
    "# from pathlib module\n",
    "from pathlib import PurePath\n",
    "\n",
    "# Instantiate the PurePath class\n",
    "obj = PurePath('foo/baar')\n",
    "\n",
    "# print the instance of PurePath class\n",
    "print(obj)\n"
   ]
  },
  {
   "cell_type": "code",
   "execution_count": null,
   "id": "3329b21f",
   "metadata": {},
   "outputs": [],
   "source": [
    "import html"
   ]
  },
  {
   "cell_type": "code",
   "execution_count": null,
   "id": "e2384074",
   "metadata": {},
   "outputs": [],
   "source": [
    "import html\n",
    "\n",
    "myHtml =  \"\"\"& < \" ' >\"\"\" \n",
    "encodedHtml = html.escape(myHtml)\n",
    "print(encodedHtml)\n"
   ]
  },
  {
   "cell_type": "code",
   "execution_count": null,
   "id": "7a6a0ed9",
   "metadata": {},
   "outputs": [],
   "source": [
    "encodedHtml = html.escape(myHtml, quote=False)`\n",
    "print(encodedHtml)"
   ]
  },
  {
   "cell_type": "code",
   "execution_count": null,
   "id": "950544f4",
   "metadata": {},
   "outputs": [],
   "source": [
    "table = 'Pipeline logging'"
   ]
  },
  {
   "cell_type": "code",
   "execution_count": null,
   "id": "e765ebb6",
   "metadata": {},
   "outputs": [],
   "source": [
    "query = f\"Update {table} set status = 'IN BASE' \\\n",
    "where run_id = ?;\""
   ]
  },
  {
   "cell_type": "code",
   "execution_count": null,
   "id": "4fb9987c",
   "metadata": {},
   "outputs": [],
   "source": [
    "print(query)"
   ]
  },
  {
   "cell_type": "code",
   "execution_count": null,
   "id": "b05d863e",
   "metadata": {},
   "outputs": [],
   "source": [
    "query1 = f\"\"\"Update {table} set status = 'IN BASE'\n",
    "where run_id = ?;\"\"\""
   ]
  },
  {
   "cell_type": "code",
   "execution_count": null,
   "id": "886d4dde",
   "metadata": {},
   "outputs": [],
   "source": [
    "print(query1)"
   ]
  },
  {
   "cell_type": "code",
   "execution_count": 1,
   "id": "1209ebe3",
   "metadata": {},
   "outputs": [],
   "source": [
    "conductor = 'DEF_AAC_336_UNK_S'"
   ]
  },
  {
   "cell_type": "code",
   "execution_count": 3,
   "id": "9c5a6f69",
   "metadata": {},
   "outputs": [],
   "source": [
    "a = conductor.split('_')"
   ]
  },
  {
   "cell_type": "code",
   "execution_count": 4,
   "id": "10fb592a",
   "metadata": {},
   "outputs": [
    {
     "data": {
      "text/plain": [
       "['DEF', 'AAC', '336', 'UNK', 'S']"
      ]
     },
     "execution_count": 4,
     "metadata": {},
     "output_type": "execute_result"
    }
   ],
   "source": [
    "a"
   ]
  },
  {
   "cell_type": "code",
   "execution_count": 5,
   "id": "dbf51377",
   "metadata": {},
   "outputs": [
    {
     "data": {
      "text/plain": [
       "'F'"
      ]
     },
     "execution_count": 5,
     "metadata": {},
     "output_type": "execute_result"
    }
   ],
   "source": [
    "a[0][-1]"
   ]
  },
  {
   "cell_type": "code",
   "execution_count": 6,
   "id": "81151ce1",
   "metadata": {},
   "outputs": [],
   "source": [
    "new = 'F_336_AAC_S_UNK'"
   ]
  },
  {
   "cell_type": "code",
   "execution_count": 7,
   "id": "5abc1869",
   "metadata": {},
   "outputs": [
    {
     "data": {
      "text/plain": [
       "'F_336_AAC_S_UNK'"
      ]
     },
     "execution_count": 7,
     "metadata": {},
     "output_type": "execute_result"
    }
   ],
   "source": [
    "'_'.join([a[0][-1], a[2], a[1], a[-1], a[-2]])"
   ]
  },
  {
   "cell_type": "code",
   "execution_count": 11,
   "id": "c54bc194",
   "metadata": {},
   "outputs": [],
   "source": [
    "def map_clie_to_cyme_conductor(conductor):\n",
    "    a = conductor.split('_')\n",
    "    return '_'.join([a[0][-1], a[2], a[1], a[-2], a[-1]])\n",
    "    "
   ]
  },
  {
   "cell_type": "code",
   "execution_count": 12,
   "id": "d064c975",
   "metadata": {},
   "outputs": [
    {
     "data": {
      "text/plain": [
       "'F_336_AAC_UNK_S'"
      ]
     },
     "execution_count": 12,
     "metadata": {},
     "output_type": "execute_result"
    }
   ],
   "source": [
    "map_clie_to_cyme_conductor(conductor)"
   ]
  },
  {
   "cell_type": "code",
   "execution_count": 13,
   "id": "daa01708",
   "metadata": {},
   "outputs": [
    {
     "data": {
      "text/plain": [
       "'P_1/0_AAAC_B_7'"
      ]
     },
     "execution_count": 13,
     "metadata": {},
     "output_type": "execute_result"
    }
   ],
   "source": [
    "map_clie_to_cyme_conductor('DEP_AAAC_1/0_B_7')"
   ]
  },
  {
   "cell_type": "code",
   "execution_count": 1,
   "id": "74959429",
   "metadata": {},
   "outputs": [],
   "source": [
    "clie_to_cyme = {'DEP_AAAC_1/0_B_7': 'P_1/0_AAAC_B_7', 'DEF_AAC_336_UNK_S': 'F_336_AAC_UNK_S'}"
   ]
  },
  {
   "cell_type": "code",
   "execution_count": 2,
   "id": "239cfa2d",
   "metadata": {},
   "outputs": [],
   "source": [
    "clie_cond = 'DEP_AAAC_1/0_B_7'"
   ]
  },
  {
   "cell_type": "code",
   "execution_count": 3,
   "id": "5ff8686f",
   "metadata": {},
   "outputs": [],
   "source": [
    "cyme_cond = clie_to_cyme.get(clie_cond)"
   ]
  },
  {
   "cell_type": "code",
   "execution_count": 4,
   "id": "ea6af4e3",
   "metadata": {},
   "outputs": [
    {
     "data": {
      "text/plain": [
       "'P_1/0_AAAC_B_7'"
      ]
     },
     "execution_count": 4,
     "metadata": {},
     "output_type": "execute_result"
    }
   ],
   "source": [
    "cyme_cond"
   ]
  },
  {
   "cell_type": "code",
   "execution_count": 6,
   "id": "5cc18ddc",
   "metadata": {},
   "outputs": [
    {
     "data": {
      "text/plain": [
       "'NULL'"
      ]
     },
     "execution_count": 6,
     "metadata": {},
     "output_type": "execute_result"
    }
   ],
   "source": [
    "clie_to_cyme.get(\"ALL_AAC_795_B_7\", \"NULL\")"
   ]
  },
  {
   "cell_type": "code",
   "execution_count": 7,
   "id": "f629d25c",
   "metadata": {},
   "outputs": [
    {
     "data": {
      "text/plain": [
       "'F_336_AAC_UNK_S'"
      ]
     },
     "execution_count": 7,
     "metadata": {},
     "output_type": "execute_result"
    }
   ],
   "source": [
    "clie_to_cyme.get('DEF_AAC_336_UNK_S')"
   ]
  },
  {
   "cell_type": "code",
   "execution_count": 28,
   "id": "5674651d",
   "metadata": {},
   "outputs": [],
   "source": [
    "def palindrome(string):\n",
    "    return string == string[::-1]"
   ]
  },
  {
   "cell_type": "code",
   "execution_count": 29,
   "id": "1137e63c",
   "metadata": {},
   "outputs": [
    {
     "data": {
      "text/plain": [
       "True"
      ]
     },
     "execution_count": 29,
     "metadata": {},
     "output_type": "execute_result"
    }
   ],
   "source": [
    "palindrome('1221')"
   ]
  },
  {
   "cell_type": "code",
   "execution_count": 30,
   "id": "81932e19",
   "metadata": {},
   "outputs": [],
   "source": [
    "a = '1221'"
   ]
  },
  {
   "cell_type": "code",
   "execution_count": 32,
   "id": "1f8793d4",
   "metadata": {},
   "outputs": [
    {
     "data": {
      "text/plain": [
       "'1221'"
      ]
     },
     "execution_count": 32,
     "metadata": {},
     "output_type": "execute_result"
    }
   ],
   "source": [
    "a[::-1]"
   ]
  },
  {
   "cell_type": "code",
   "execution_count": 33,
   "id": "1ea3f288",
   "metadata": {},
   "outputs": [
    {
     "data": {
      "text/plain": [
       "False"
      ]
     },
     "execution_count": 33,
     "metadata": {},
     "output_type": "execute_result"
    }
   ],
   "source": [
    "palindrome('suraj')"
   ]
  },
  {
   "cell_type": "code",
   "execution_count": 34,
   "id": "6de1d9fc",
   "metadata": {},
   "outputs": [],
   "source": [
    "def isPalindrome(s):\n",
    "  \n",
    "    # to change it the string is similar case\n",
    "    s = s.lower()\n",
    "    # length of s\n",
    "    l = len(s)\n",
    "  \n",
    "    # if length is less than 2\n",
    "    if l < 2:\n",
    "        return True\n",
    "  \n",
    "    # If s[0] and s[l-1] are equal\n",
    "    elif s[0] == s[l - 1]:\n",
    "  \n",
    "        # Call is palindrome form substring(1,l-1)\n",
    "        return isPalindrome(s[1: l - 1])\n",
    "  \n",
    "    else:\n",
    "        return False"
   ]
  },
  {
   "cell_type": "code",
   "execution_count": 39,
   "id": "555529c0",
   "metadata": {},
   "outputs": [
    {
     "data": {
      "text/plain": [
       "True"
      ]
     },
     "execution_count": 39,
     "metadata": {},
     "output_type": "execute_result"
    }
   ],
   "source": [
    "isPalindrome('malayalam')"
   ]
  },
  {
   "cell_type": "code",
   "execution_count": 4,
   "id": "662f0265",
   "metadata": {},
   "outputs": [
    {
     "ename": "TypeError",
     "evalue": "'set' object is not subscriptable",
     "output_type": "error",
     "traceback": [
      "\u001b[1;31m---------------------------------------------------------------------------\u001b[0m",
      "\u001b[1;31mTypeError\u001b[0m                                 Traceback (most recent call last)",
      "Input \u001b[1;32mIn [4]\u001b[0m, in \u001b[0;36m<cell line: 16>\u001b[1;34m()\u001b[0m\n\u001b[0;32m     13\u001b[0m         \u001b[38;5;28;01mreturn\u001b[39;00m tup\n\u001b[0;32m     15\u001b[0m \u001b[38;5;66;03m# Apply the custom function to the DataFrame column\u001b[39;00m\n\u001b[1;32m---> 16\u001b[0m df[\u001b[38;5;124m'\u001b[39m\u001b[38;5;124mColumn1\u001b[39m\u001b[38;5;124m'\u001b[39m] \u001b[38;5;241m=\u001b[39m \u001b[43mdf\u001b[49m\u001b[43m[\u001b[49m\u001b[38;5;124;43m'\u001b[39;49m\u001b[38;5;124;43mColumn1\u001b[39;49m\u001b[38;5;124;43m'\u001b[39;49m\u001b[43m]\u001b[49m\u001b[38;5;241;43m.\u001b[39;49m\u001b[43mapply\u001b[49m\u001b[43m(\u001b[49m\u001b[43mreplace_if_same\u001b[49m\u001b[43m)\u001b[49m\n\u001b[0;32m     18\u001b[0m \u001b[38;5;66;03m# Display the updated DataFrame\u001b[39;00m\n\u001b[0;32m     19\u001b[0m \u001b[38;5;28mprint\u001b[39m(df)\n",
      "File \u001b[1;32m~\\anaconda3\\lib\\site-packages\\pandas\\core\\series.py:4433\u001b[0m, in \u001b[0;36mSeries.apply\u001b[1;34m(self, func, convert_dtype, args, **kwargs)\u001b[0m\n\u001b[0;32m   4323\u001b[0m \u001b[38;5;28;01mdef\u001b[39;00m \u001b[38;5;21mapply\u001b[39m(\n\u001b[0;32m   4324\u001b[0m     \u001b[38;5;28mself\u001b[39m,\n\u001b[0;32m   4325\u001b[0m     func: AggFuncType,\n\u001b[1;32m   (...)\u001b[0m\n\u001b[0;32m   4328\u001b[0m     \u001b[38;5;241m*\u001b[39m\u001b[38;5;241m*\u001b[39mkwargs,\n\u001b[0;32m   4329\u001b[0m ) \u001b[38;5;241m-\u001b[39m\u001b[38;5;241m>\u001b[39m DataFrame \u001b[38;5;241m|\u001b[39m Series:\n\u001b[0;32m   4330\u001b[0m     \u001b[38;5;124;03m\"\"\"\u001b[39;00m\n\u001b[0;32m   4331\u001b[0m \u001b[38;5;124;03m    Invoke function on values of Series.\u001b[39;00m\n\u001b[0;32m   4332\u001b[0m \n\u001b[1;32m   (...)\u001b[0m\n\u001b[0;32m   4431\u001b[0m \u001b[38;5;124;03m    dtype: float64\u001b[39;00m\n\u001b[0;32m   4432\u001b[0m \u001b[38;5;124;03m    \"\"\"\u001b[39;00m\n\u001b[1;32m-> 4433\u001b[0m     \u001b[38;5;28;01mreturn\u001b[39;00m \u001b[43mSeriesApply\u001b[49m\u001b[43m(\u001b[49m\u001b[38;5;28;43mself\u001b[39;49m\u001b[43m,\u001b[49m\u001b[43m \u001b[49m\u001b[43mfunc\u001b[49m\u001b[43m,\u001b[49m\u001b[43m \u001b[49m\u001b[43mconvert_dtype\u001b[49m\u001b[43m,\u001b[49m\u001b[43m \u001b[49m\u001b[43margs\u001b[49m\u001b[43m,\u001b[49m\u001b[43m \u001b[49m\u001b[43mkwargs\u001b[49m\u001b[43m)\u001b[49m\u001b[38;5;241;43m.\u001b[39;49m\u001b[43mapply\u001b[49m\u001b[43m(\u001b[49m\u001b[43m)\u001b[49m\n",
      "File \u001b[1;32m~\\anaconda3\\lib\\site-packages\\pandas\\core\\apply.py:1082\u001b[0m, in \u001b[0;36mSeriesApply.apply\u001b[1;34m(self)\u001b[0m\n\u001b[0;32m   1078\u001b[0m \u001b[38;5;28;01mif\u001b[39;00m \u001b[38;5;28misinstance\u001b[39m(\u001b[38;5;28mself\u001b[39m\u001b[38;5;241m.\u001b[39mf, \u001b[38;5;28mstr\u001b[39m):\n\u001b[0;32m   1079\u001b[0m     \u001b[38;5;66;03m# if we are a string, try to dispatch\u001b[39;00m\n\u001b[0;32m   1080\u001b[0m     \u001b[38;5;28;01mreturn\u001b[39;00m \u001b[38;5;28mself\u001b[39m\u001b[38;5;241m.\u001b[39mapply_str()\n\u001b[1;32m-> 1082\u001b[0m \u001b[38;5;28;01mreturn\u001b[39;00m \u001b[38;5;28;43mself\u001b[39;49m\u001b[38;5;241;43m.\u001b[39;49m\u001b[43mapply_standard\u001b[49m\u001b[43m(\u001b[49m\u001b[43m)\u001b[49m\n",
      "File \u001b[1;32m~\\anaconda3\\lib\\site-packages\\pandas\\core\\apply.py:1137\u001b[0m, in \u001b[0;36mSeriesApply.apply_standard\u001b[1;34m(self)\u001b[0m\n\u001b[0;32m   1131\u001b[0m         values \u001b[38;5;241m=\u001b[39m obj\u001b[38;5;241m.\u001b[39mastype(\u001b[38;5;28mobject\u001b[39m)\u001b[38;5;241m.\u001b[39m_values\n\u001b[0;32m   1132\u001b[0m         \u001b[38;5;66;03m# error: Argument 2 to \"map_infer\" has incompatible type\u001b[39;00m\n\u001b[0;32m   1133\u001b[0m         \u001b[38;5;66;03m# \"Union[Callable[..., Any], str, List[Union[Callable[..., Any], str]],\u001b[39;00m\n\u001b[0;32m   1134\u001b[0m         \u001b[38;5;66;03m# Dict[Hashable, Union[Union[Callable[..., Any], str],\u001b[39;00m\n\u001b[0;32m   1135\u001b[0m         \u001b[38;5;66;03m# List[Union[Callable[..., Any], str]]]]]\"; expected\u001b[39;00m\n\u001b[0;32m   1136\u001b[0m         \u001b[38;5;66;03m# \"Callable[[Any], Any]\"\u001b[39;00m\n\u001b[1;32m-> 1137\u001b[0m         mapped \u001b[38;5;241m=\u001b[39m \u001b[43mlib\u001b[49m\u001b[38;5;241;43m.\u001b[39;49m\u001b[43mmap_infer\u001b[49m\u001b[43m(\u001b[49m\n\u001b[0;32m   1138\u001b[0m \u001b[43m            \u001b[49m\u001b[43mvalues\u001b[49m\u001b[43m,\u001b[49m\n\u001b[0;32m   1139\u001b[0m \u001b[43m            \u001b[49m\u001b[43mf\u001b[49m\u001b[43m,\u001b[49m\u001b[43m  \u001b[49m\u001b[38;5;66;43;03m# type: ignore[arg-type]\u001b[39;49;00m\n\u001b[0;32m   1140\u001b[0m \u001b[43m            \u001b[49m\u001b[43mconvert\u001b[49m\u001b[38;5;241;43m=\u001b[39;49m\u001b[38;5;28;43mself\u001b[39;49m\u001b[38;5;241;43m.\u001b[39;49m\u001b[43mconvert_dtype\u001b[49m\u001b[43m,\u001b[49m\n\u001b[0;32m   1141\u001b[0m \u001b[43m        \u001b[49m\u001b[43m)\u001b[49m\n\u001b[0;32m   1143\u001b[0m \u001b[38;5;28;01mif\u001b[39;00m \u001b[38;5;28mlen\u001b[39m(mapped) \u001b[38;5;129;01mand\u001b[39;00m \u001b[38;5;28misinstance\u001b[39m(mapped[\u001b[38;5;241m0\u001b[39m], ABCSeries):\n\u001b[0;32m   1144\u001b[0m     \u001b[38;5;66;03m# GH#43986 Need to do list(mapped) in order to get treated as nested\u001b[39;00m\n\u001b[0;32m   1145\u001b[0m     \u001b[38;5;66;03m#  See also GH#25959 regarding EA support\u001b[39;00m\n\u001b[0;32m   1146\u001b[0m     \u001b[38;5;28;01mreturn\u001b[39;00m obj\u001b[38;5;241m.\u001b[39m_constructor_expanddim(\u001b[38;5;28mlist\u001b[39m(mapped), index\u001b[38;5;241m=\u001b[39mobj\u001b[38;5;241m.\u001b[39mindex)\n",
      "File \u001b[1;32m~\\anaconda3\\lib\\site-packages\\pandas\\_libs\\lib.pyx:2870\u001b[0m, in \u001b[0;36mpandas._libs.lib.map_infer\u001b[1;34m()\u001b[0m\n",
      "Input \u001b[1;32mIn [4]\u001b[0m, in \u001b[0;36mreplace_if_same\u001b[1;34m(tup)\u001b[0m\n\u001b[0;32m      9\u001b[0m \u001b[38;5;28;01mdef\u001b[39;00m \u001b[38;5;21mreplace_if_same\u001b[39m(tup):\n\u001b[1;32m---> 10\u001b[0m     \u001b[38;5;28;01mif\u001b[39;00m pd\u001b[38;5;241m.\u001b[39mnotna(\u001b[43mtup\u001b[49m\u001b[43m[\u001b[49m\u001b[38;5;241;43m0\u001b[39;49m\u001b[43m]\u001b[49m) \u001b[38;5;129;01mand\u001b[39;00m pd\u001b[38;5;241m.\u001b[39mnotna(tup[\u001b[38;5;241m1\u001b[39m]) \u001b[38;5;129;01mand\u001b[39;00m tup[\u001b[38;5;241m0\u001b[39m] \u001b[38;5;241m==\u001b[39m tup[\u001b[38;5;241m1\u001b[39m]:\n\u001b[0;32m     11\u001b[0m         \u001b[38;5;28;01mreturn\u001b[39;00m \u001b[38;5;124m'\u001b[39m\u001b[38;5;124m'\u001b[39m\n\u001b[0;32m     12\u001b[0m     \u001b[38;5;28;01melse\u001b[39;00m:\n",
      "\u001b[1;31mTypeError\u001b[0m: 'set' object is not subscriptable"
     ]
    }
   ],
   "source": [
    "import pandas as pd\n",
    "import numpy as np\n",
    "\n",
    "# Sample DataFrame\n",
    "data = {'Column1': [{(np.nan, 'a'), ('a', np.nan)}, ('b', 'c')]}\n",
    "df = pd.DataFrame(data)\n",
    "\n",
    "# Define a custom function to check if both elements in the tuple are the same\n",
    "def replace_if_same(tup):\n",
    "    if pd.notna(tup[0]) and pd.notna(tup[1]) and tup[0] == tup[1]:\n",
    "        return ''\n",
    "    else:\n",
    "        return tup\n",
    "\n",
    "# Apply the custom function to the DataFrame column\n",
    "df['Column1'] = df['Column1'].apply(replace_if_same)\n",
    "\n",
    "# Display the updated DataFrame\n",
    "print(df)\n"
   ]
  },
  {
   "cell_type": "code",
   "execution_count": 3,
   "id": "5e7d6d52",
   "metadata": {},
   "outputs": [
    {
     "data": {
      "text/html": [
       "<div>\n",
       "<style scoped>\n",
       "    .dataframe tbody tr th:only-of-type {\n",
       "        vertical-align: middle;\n",
       "    }\n",
       "\n",
       "    .dataframe tbody tr th {\n",
       "        vertical-align: top;\n",
       "    }\n",
       "\n",
       "    .dataframe thead th {\n",
       "        text-align: right;\n",
       "    }\n",
       "</style>\n",
       "<table border=\"1\" class=\"dataframe\">\n",
       "  <thead>\n",
       "    <tr style=\"text-align: right;\">\n",
       "      <th></th>\n",
       "      <th>Column1</th>\n",
       "    </tr>\n",
       "  </thead>\n",
       "  <tbody>\n",
       "    <tr>\n",
       "      <th>0</th>\n",
       "      <td>{(a, nan), (nan, a)}</td>\n",
       "    </tr>\n",
       "    <tr>\n",
       "      <th>1</th>\n",
       "      <td>(b, c)</td>\n",
       "    </tr>\n",
       "  </tbody>\n",
       "</table>\n",
       "</div>"
      ],
      "text/plain": [
       "                Column1\n",
       "0  {(a, nan), (nan, a)}\n",
       "1                (b, c)"
      ]
     },
     "execution_count": 3,
     "metadata": {},
     "output_type": "execute_result"
    }
   ],
   "source": [
    "data = {'Column1': [{(np.nan, 'a'), ('a', np.nan)}, ('b', 'c')]}\n",
    "df = pd.DataFrame(data)\n",
    "df"
   ]
  },
  {
   "cell_type": "code",
   "execution_count": null,
   "id": "2fd2c002",
   "metadata": {},
   "outputs": [],
   "source": []
  }
 ],
 "metadata": {
  "kernelspec": {
   "display_name": "Python 3 (ipykernel)",
   "language": "python",
   "name": "python3"
  },
  "language_info": {
   "codemirror_mode": {
    "name": "ipython",
    "version": 3
   },
   "file_extension": ".py",
   "mimetype": "text/x-python",
   "name": "python",
   "nbconvert_exporter": "python",
   "pygments_lexer": "ipython3",
   "version": "3.9.12"
  }
 },
 "nbformat": 4,
 "nbformat_minor": 5
}
