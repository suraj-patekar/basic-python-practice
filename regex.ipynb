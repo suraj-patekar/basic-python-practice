{
 "cells": [
  {
   "cell_type": "code",
   "execution_count": 2,
   "id": "09ed0e5e",
   "metadata": {},
   "outputs": [],
   "source": [
    "import re"
   ]
  },
  {
   "cell_type": "code",
   "execution_count": 30,
   "id": "8fd75625",
   "metadata": {},
   "outputs": [],
   "source": [
    "chat1 = \"My phone is 1234567890 and email is abc@xyz.com\"\n",
    "chat2 = \"Phone: (123)-456-7890 and email id: ABCD@xyz.com, 7506647741\"\n",
    "chat3 = \"here it is 1234567890, suraj2711@wxyz.com\""
   ]
  },
  {
   "cell_type": "code",
   "execution_count": 9,
   "id": "70b1063d",
   "metadata": {},
   "outputs": [],
   "source": [
    "pattern = \"\\d{10}\"\n",
    "matches = re.findall(pattern, chat1)"
   ]
  },
  {
   "cell_type": "code",
   "execution_count": 10,
   "id": "0acbc790",
   "metadata": {},
   "outputs": [
    {
     "data": {
      "text/plain": [
       "['1234567890']"
      ]
     },
     "execution_count": 10,
     "metadata": {},
     "output_type": "execute_result"
    }
   ],
   "source": [
    "matches"
   ]
  },
  {
   "cell_type": "code",
   "execution_count": 27,
   "id": "44d1475f",
   "metadata": {},
   "outputs": [],
   "source": [
    "pattern1 = \"\\d{10}|\\(\\d{3}\\)-\\d{3}-\\d{4}\"\n",
    "matches1 = re.findall(pattern1, chat2)"
   ]
  },
  {
   "cell_type": "code",
   "execution_count": 28,
   "id": "6c474559",
   "metadata": {},
   "outputs": [
    {
     "data": {
      "text/plain": [
       "['(123)-456-7890', '7506647741']"
      ]
     },
     "execution_count": 28,
     "metadata": {},
     "output_type": "execute_result"
    }
   ],
   "source": [
    "matches1"
   ]
  },
  {
   "cell_type": "code",
   "execution_count": 31,
   "id": "d2d281e9",
   "metadata": {},
   "outputs": [
    {
     "data": {
      "text/plain": [
       "['abc@xyz.com']"
      ]
     },
     "execution_count": 31,
     "metadata": {},
     "output_type": "execute_result"
    }
   ],
   "source": [
    "email_pattern = \"[a-z0-9A-Z_]*@[a-z.]*\"\n",
    "email1 = re.findall(email_pattern, chat1)\n",
    "email1"
   ]
  },
  {
   "cell_type": "code",
   "execution_count": 32,
   "id": "9fb62fa8",
   "metadata": {},
   "outputs": [
    {
     "data": {
      "text/plain": [
       "['ABCD@xyz.com']"
      ]
     },
     "execution_count": 32,
     "metadata": {},
     "output_type": "execute_result"
    }
   ],
   "source": [
    "email2 = re.findall(email_pattern, chat2)\n",
    "email2"
   ]
  },
  {
   "cell_type": "code",
   "execution_count": 33,
   "id": "4b343da8",
   "metadata": {},
   "outputs": [
    {
     "data": {
      "text/plain": [
       "['suraj2711@wxyz.com']"
      ]
     },
     "execution_count": 33,
     "metadata": {},
     "output_type": "execute_result"
    }
   ],
   "source": [
    "email3 = re.findall(email_pattern, chat3)\n",
    "email3"
   ]
  },
  {
   "cell_type": "code",
   "execution_count": 43,
   "id": "799f4239",
   "metadata": {},
   "outputs": [],
   "source": [
    "order1 = \"Hello my order number is 456454556\"\n",
    "order2 = \"order no. 45632145753\"\n",
    "order3 = \"order # 789441666543\""
   ]
  },
  {
   "cell_type": "code",
   "execution_count": 44,
   "id": "0b68b2f6",
   "metadata": {},
   "outputs": [],
   "source": [
    "order_pattern = \"order\\D{0,}(\\d*)\""
   ]
  },
  {
   "cell_type": "code",
   "execution_count": 45,
   "id": "3e116b50",
   "metadata": {},
   "outputs": [
    {
     "data": {
      "text/plain": [
       "['456454556']"
      ]
     },
     "execution_count": 45,
     "metadata": {},
     "output_type": "execute_result"
    }
   ],
   "source": [
    "ord1 = re.findall(order_pattern, order1)\n",
    "ord1"
   ]
  },
  {
   "cell_type": "code",
   "execution_count": 46,
   "id": "92265c33",
   "metadata": {},
   "outputs": [
    {
     "data": {
      "text/plain": [
       "['45632145753']"
      ]
     },
     "execution_count": 46,
     "metadata": {},
     "output_type": "execute_result"
    }
   ],
   "source": [
    "ord2 = re.findall(order_pattern, order2)\n",
    "ord2"
   ]
  },
  {
   "cell_type": "code",
   "execution_count": 47,
   "id": "15797d2c",
   "metadata": {},
   "outputs": [
    {
     "data": {
      "text/plain": [
       "['789441666543']"
      ]
     },
     "execution_count": 47,
     "metadata": {},
     "output_type": "execute_result"
    }
   ],
   "source": [
    "ord3 = re.findall(order_pattern, order3)\n",
    "ord3"
   ]
  },
  {
   "cell_type": "code",
   "execution_count": 1,
   "id": "f9231002",
   "metadata": {},
   "outputs": [],
   "source": [
    "text = \"\"\"\n",
    "Born\tElon Reeve Musk\n",
    "June 28, 1971 (age 52)\n",
    "Pretoria, Transvaal, South Africa\n",
    "Education\tUniversity of Pennsylvania (BA, BS)\n",
    "Title\t\n",
    "Founder, CEO, and chief engineer of SpaceX\n",
    "CEO and product architect of Tesla, Inc.\n",
    "Owner and CTO of Twitter\n",
    "President of the Musk Foundation\n",
    "Founder of the Boring Company, X Corp., and xAI\n",
    "Co-founder of Neuralink, OpenAI, Zip2, and X.com (part of PayPal)\n",
    "Spouses\t\n",
    "Justine Wilson\n",
    "​\n",
    "​(m. 2000; div. 2008)​\n",
    "Talulah Riley\n",
    "​\n",
    "​(m. 2010; div. 2012)​\n",
    "​\n",
    "​(m. 2013; div. 2016)​\n",
    "Partner\tGrimes (2018–2021)[1]\n",
    "Children\t10[a][3]\n",
    "Parents\t\n",
    "Errol Musk (father)\n",
    "Maye Musk (mother)\n",
    "Family\tMusk family\"\"\""
   ]
  },
  {
   "cell_type": "code",
   "execution_count": 3,
   "id": "c5c58b2e",
   "metadata": {},
   "outputs": [
    {
     "data": {
      "text/plain": [
       "'52'"
      ]
     },
     "execution_count": 3,
     "metadata": {},
     "output_type": "execute_result"
    }
   ],
   "source": [
    "age_pattern = \"age (\\d+)\"\n",
    "age = re.findall(age_pattern, text)\n",
    "age[0]"
   ]
  },
  {
   "cell_type": "code",
   "execution_count": 4,
   "id": "3b809336",
   "metadata": {},
   "outputs": [
    {
     "data": {
      "text/plain": [
       "'Elon Reeve Musk'"
      ]
     },
     "execution_count": 4,
     "metadata": {},
     "output_type": "execute_result"
    }
   ],
   "source": [
    "name_pattern = \"Born(.*)\"\n",
    "name = re.findall(name_pattern, text)\n",
    "name[0].strip()"
   ]
  },
  {
   "cell_type": "code",
   "execution_count": 7,
   "id": "01126571",
   "metadata": {},
   "outputs": [
    {
     "data": {
      "text/plain": [
       "'June 28, 1971'"
      ]
     },
     "execution_count": 7,
     "metadata": {},
     "output_type": "execute_result"
    }
   ],
   "source": [
    "dob_pattern = \"Born.*\\n(.*)\\(age\"\n",
    "dob = re.findall(dob_pattern, text)\n",
    "dob[0].strip()"
   ]
  },
  {
   "cell_type": "code",
   "execution_count": 9,
   "id": "288b8790",
   "metadata": {},
   "outputs": [
    {
     "data": {
      "text/plain": [
       "'Pretoria, Transvaal, South Africa'"
      ]
     },
     "execution_count": 9,
     "metadata": {},
     "output_type": "execute_result"
    }
   ],
   "source": [
    "birthplace_pattern = \"age.*\\n(.*)\"\n",
    "birthplace = re.findall(birthplace_pattern, text)\n",
    "birthplace[0]"
   ]
  },
  {
   "cell_type": "code",
   "execution_count": 12,
   "id": "ee1fe8f6",
   "metadata": {},
   "outputs": [],
   "source": [
    "def get_pattern_match(pattern, text):\n",
    "    try:\n",
    "        matches = re.findall(pattern, text)\n",
    "        return matches[0].strip()\n",
    "    except:\n",
    "        return None\n",
    "    "
   ]
  },
  {
   "cell_type": "code",
   "execution_count": 13,
   "id": "35e3563e",
   "metadata": {},
   "outputs": [
    {
     "data": {
      "text/plain": [
       "'June 28, 1971'"
      ]
     },
     "execution_count": 13,
     "metadata": {},
     "output_type": "execute_result"
    }
   ],
   "source": [
    "get_pattern_match(dob_pattern, text)"
   ]
  },
  {
   "cell_type": "code",
   "execution_count": 14,
   "id": "f9acee05",
   "metadata": {},
   "outputs": [],
   "source": [
    "def get_personal_information(text):\n",
    "    name = get_pattern_match(\"Born(.*)\", text)\n",
    "    age = get_pattern_match(\"age (\\d+)\", text)\n",
    "    dob = get_pattern_match(\"Born.*\\n(.*)\\(age\", text)\n",
    "    birthplace = get_pattern_match(\"age.*\\n(.*)\", text)\n",
    "    \n",
    "    return {\"Name\": name,\n",
    "           \"Age\": age,\n",
    "           \"Date of Birth\": dob,\n",
    "           \"Birth Place\": birthplace}\n",
    "    \n",
    "    \n",
    "    "
   ]
  },
  {
   "cell_type": "code",
   "execution_count": 15,
   "id": "74ad4869",
   "metadata": {},
   "outputs": [
    {
     "data": {
      "text/plain": [
       "{'Name': 'Elon Reeve Musk',\n",
       " 'Age': '52',\n",
       " 'Date of Birth': 'June 28, 1971',\n",
       " 'Birth Place': 'Pretoria, Transvaal, South Africa'}"
      ]
     },
     "execution_count": 15,
     "metadata": {},
     "output_type": "execute_result"
    }
   ],
   "source": [
    "get_personal_information(text)"
   ]
  },
  {
   "cell_type": "code",
   "execution_count": 16,
   "id": "22001255",
   "metadata": {},
   "outputs": [],
   "source": [
    "mukesh = \"\"\"\n",
    "Born\tMukesh Dhirubhai Ambani\n",
    "19 April 1957 (age 66)\n",
    "Aden, Colony of Aden\n",
    "(present-day Yemen)[1][2]\n",
    "Nationality\tIndian\n",
    "Alma mater\t\n",
    "St. Xavier's College, Mumbai\n",
    "Institute of Chemical Technology (B.E.)\n",
    "Occupation(s)\tChairman and MD, Reliance Industries\n",
    "Spouse\tNita Ambani ​(m. 1985)​[3]\n",
    "Children\t3\n",
    "Parents\t\n",
    "Dhirubhai Ambani (father)\n",
    "Kokilaben Ambani (mother)\n",
    "Relatives\tAnil Ambani (brother)\n",
    "Tina Ambani (sister-in-law)\"\"\""
   ]
  },
  {
   "cell_type": "code",
   "execution_count": 17,
   "id": "9830af10",
   "metadata": {},
   "outputs": [
    {
     "data": {
      "text/plain": [
       "{'Name': 'Mukesh Dhirubhai Ambani',\n",
       " 'Age': '66',\n",
       " 'Date of Birth': '19 April 1957',\n",
       " 'Birth Place': 'Aden, Colony of Aden'}"
      ]
     },
     "execution_count": 17,
     "metadata": {},
     "output_type": "execute_result"
    }
   ],
   "source": [
    "get_personal_information(mukesh)"
   ]
  },
  {
   "cell_type": "code",
   "execution_count": null,
   "id": "e1c4872f",
   "metadata": {},
   "outputs": [],
   "source": []
  }
 ],
 "metadata": {
  "kernelspec": {
   "display_name": "Python 3 (ipykernel)",
   "language": "python",
   "name": "python3"
  },
  "language_info": {
   "codemirror_mode": {
    "name": "ipython",
    "version": 3
   },
   "file_extension": ".py",
   "mimetype": "text/x-python",
   "name": "python",
   "nbconvert_exporter": "python",
   "pygments_lexer": "ipython3",
   "version": "3.9.12"
  }
 },
 "nbformat": 4,
 "nbformat_minor": 5
}
