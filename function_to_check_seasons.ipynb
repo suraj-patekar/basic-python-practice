{
 "cells": [
  {
   "cell_type": "code",
   "execution_count": 1,
   "id": "347f92a5",
   "metadata": {},
   "outputs": [],
   "source": [
    "student = {\"Name\": \"Suraj\",\n",
    "           \"Age\": 30,\n",
    "           \"Class\": 12\n",
    "          }"
   ]
  },
  {
   "cell_type": "code",
   "execution_count": 2,
   "id": "4521a416",
   "metadata": {},
   "outputs": [
    {
     "name": "stdout",
     "output_type": "stream",
     "text": [
      "'Address' not present in DB.\n"
     ]
    }
   ],
   "source": [
    "try:\n",
    "    print(student['Address'])\n",
    "except KeyError as e:\n",
    "    print(f\"{e} not present in DB.\")"
   ]
  },
  {
   "cell_type": "code",
   "execution_count": 1,
   "id": "38a84bb3",
   "metadata": {},
   "outputs": [],
   "source": [
    "old = [None]*4"
   ]
  },
  {
   "cell_type": "code",
   "execution_count": 2,
   "id": "4459f76a",
   "metadata": {},
   "outputs": [
    {
     "data": {
      "text/plain": [
       "[None, None, None, None]"
      ]
     },
     "execution_count": 2,
     "metadata": {},
     "output_type": "execute_result"
    }
   ],
   "source": [
    "old"
   ]
  },
  {
   "cell_type": "code",
   "execution_count": 2,
   "id": "30f0f563",
   "metadata": {},
   "outputs": [],
   "source": [
    "import datetime\n",
    "\n",
    "def is_date_between(start_date, end_date, date_to_check):\n",
    "    \"\"\"\n",
    "    Checks whether a given date is between two other dates.\n",
    "    \n",
    "    :param start_date: tuple representing the start date (day, month)\n",
    "    :param end_date: tuple representing the end date (day, month)\n",
    "    :param date_to_check: tuple representing the date to check (day, month)\n",
    "    :return: True if date_to_check is between start_date and end_date, False otherwise\n",
    "    \"\"\"\n",
    "    # Convert the date tuples to datetime.date objects\n",
    "    start_datetime = datetime.date.min.replace(month=start_date[1], day=start_date[0])\n",
    "    end_datetime = datetime.date.min.replace(month=end_date[1], day=end_date[0])\n",
    "    date_to_check_datetime = datetime.date.min.replace(month=date_to_check[1], day=date_to_check[0])\n",
    "    \n",
    "    # Check if the date to check is between the start and end dates\n",
    "    return start_datetime <= date_to_check_datetime <= end_datetime\n"
   ]
  },
  {
   "cell_type": "code",
   "execution_count": 5,
   "id": "79ee92ea",
   "metadata": {},
   "outputs": [],
   "source": [
    "start = (1, 5)\n",
    "end = (1,11)\n",
    "date = (2, 4)"
   ]
  },
  {
   "cell_type": "code",
   "execution_count": 6,
   "id": "b7e823be",
   "metadata": {},
   "outputs": [
    {
     "data": {
      "text/plain": [
       "False"
      ]
     },
     "execution_count": 6,
     "metadata": {},
     "output_type": "execute_result"
    }
   ],
   "source": [
    "is_date_between(start, end, date)"
   ]
  },
  {
   "cell_type": "code",
   "execution_count": 7,
   "id": "2ff313e4",
   "metadata": {},
   "outputs": [],
   "source": [
    "start1 = (1, 12)\n",
    "end1 = (1, 4)\n",
    "date1 = (1,1)"
   ]
  },
  {
   "cell_type": "code",
   "execution_count": 8,
   "id": "1ff95226",
   "metadata": {},
   "outputs": [
    {
     "data": {
      "text/plain": [
       "False"
      ]
     },
     "execution_count": 8,
     "metadata": {},
     "output_type": "execute_result"
    }
   ],
   "source": [
    "is_date_between(start1, end1, date1)"
   ]
  },
  {
   "cell_type": "code",
   "execution_count": 3,
   "id": "8093d2b6",
   "metadata": {},
   "outputs": [],
   "source": [
    "summer_months = list(range(5,12))\n",
    "summer_hours = list(range(12,23))\n",
    "def is_summer(month, hour):\n",
    "    if month in summer_months:\n",
    "        if hour in summer_hours:\n",
    "            return \"summer peak\"\n",
    "        return \"summer\"\n",
    "    else:\n",
    "        return \"Not a summer\"\n",
    "    "
   ]
  },
  {
   "cell_type": "code",
   "execution_count": 2,
   "id": "8b43075c",
   "metadata": {},
   "outputs": [
    {
     "data": {
      "text/plain": [
       "'summer'"
      ]
     },
     "execution_count": 2,
     "metadata": {},
     "output_type": "execute_result"
    }
   ],
   "source": [
    "is_summer(5, 10)"
   ]
  },
  {
   "cell_type": "code",
   "execution_count": 4,
   "id": "816d4288",
   "metadata": {},
   "outputs": [],
   "source": [
    "winter_months = [12, 1, 2, 3, 4]\n",
    "winter_hours = list(range(4,11))"
   ]
  },
  {
   "cell_type": "code",
   "execution_count": 4,
   "id": "1a391c02",
   "metadata": {},
   "outputs": [],
   "source": [
    "def is_winter(month, hour):\n",
    "    if month in winter_months:\n",
    "        if hour in winter_hours:\n",
    "            return \"winter peak\"\n",
    "        return \"winter\"\n",
    "    else:\n",
    "        return \"Not a winter\""
   ]
  },
  {
   "cell_type": "code",
   "execution_count": 6,
   "id": "4538e4ea",
   "metadata": {},
   "outputs": [
    {
     "data": {
      "text/plain": [
       "[5, 6, 7, 8, 9, 10, 11]"
      ]
     },
     "execution_count": 6,
     "metadata": {},
     "output_type": "execute_result"
    }
   ],
   "source": [
    "summer_months"
   ]
  },
  {
   "cell_type": "code",
   "execution_count": 28,
   "id": "d586e254",
   "metadata": {},
   "outputs": [
    {
     "data": {
      "text/plain": [
       "'Not a winter'"
      ]
     },
     "execution_count": 28,
     "metadata": {},
     "output_type": "execute_result"
    }
   ],
   "source": [
    "is_winter(5,10)"
   ]
  },
  {
   "cell_type": "code",
   "execution_count": 15,
   "id": "30aa0699",
   "metadata": {},
   "outputs": [],
   "source": [
    "def is_peak_hour(hour: int, month: int):\n",
    "    if month in summer_months:\n",
    "        if hour in summer_hours:\n",
    "            return \"summer peak\"\n",
    "        else:\n",
    "            return \"Not a peak hour\"\n",
    "    else:\n",
    "        if hour in winter_hours:\n",
    "            return \"winter peak\"\n",
    "        else:\n",
    "            return \"Not a peak hour\"\n",
    "        \n"
   ]
  },
  {
   "cell_type": "code",
   "execution_count": 16,
   "id": "95cb0136",
   "metadata": {},
   "outputs": [
    {
     "data": {
      "text/plain": [
       "'winter peak'"
      ]
     },
     "execution_count": 16,
     "metadata": {},
     "output_type": "execute_result"
    }
   ],
   "source": [
    "is_peak_hour(4,1)"
   ]
  },
  {
   "cell_type": "code",
   "execution_count": 23,
   "id": "c9565727",
   "metadata": {},
   "outputs": [
    {
     "data": {
      "text/plain": [
       "'Not a peak hour'"
      ]
     },
     "execution_count": 23,
     "metadata": {},
     "output_type": "execute_result"
    }
   ],
   "source": [
    "is_peak_hour(12,4)"
   ]
  },
  {
   "cell_type": "code",
   "execution_count": 20,
   "id": "eb0661ac",
   "metadata": {},
   "outputs": [
    {
     "data": {
      "text/plain": [
       "'summer peak'"
      ]
     },
     "execution_count": 20,
     "metadata": {},
     "output_type": "execute_result"
    }
   ],
   "source": [
    "is_peak_hour(22,6)"
   ]
  },
  {
   "cell_type": "code",
   "execution_count": 10,
   "id": "710273ce",
   "metadata": {},
   "outputs": [],
   "source": [
    "winter_months = [12, 1, 2, 3]\n",
    "winter_hours = list(range(4,11))\n",
    "summer_months = list(range(5,11))\n",
    "summer_hours = list(range(12,23))\n",
    "def peak_hour1(hour, day, month):\n",
    "    if month in summer_months or (month == 11 and day == 1):\n",
    "        return True if hour in summer_hours else False\n",
    "    elif month in winter_months or (month == 4 and day == 1):\n",
    "        return True if hour in winter_hours else False\n",
    "    else:\n",
    "        return False\n",
    "\n",
    "    "
   ]
  },
  {
   "cell_type": "code",
   "execution_count": 11,
   "id": "53a3e808",
   "metadata": {},
   "outputs": [
    {
     "data": {
      "text/plain": [
       "False"
      ]
     },
     "execution_count": 11,
     "metadata": {},
     "output_type": "execute_result"
    }
   ],
   "source": [
    "peak_hour1(20,2,11)"
   ]
  },
  {
   "cell_type": "code",
   "execution_count": 12,
   "id": "574e88a0",
   "metadata": {},
   "outputs": [
    {
     "data": {
      "text/plain": [
       "False"
      ]
     },
     "execution_count": 12,
     "metadata": {},
     "output_type": "execute_result"
    }
   ],
   "source": [
    "peak_hour1(3,1,4)"
   ]
  },
  {
   "cell_type": "code",
   "execution_count": 13,
   "id": "26353976",
   "metadata": {},
   "outputs": [
    {
     "data": {
      "text/plain": [
       "True"
      ]
     },
     "execution_count": 13,
     "metadata": {},
     "output_type": "execute_result"
    }
   ],
   "source": [
    "peak_hour1(hour=4, day=1, month = 1)"
   ]
  },
  {
   "cell_type": "code",
   "execution_count": 2,
   "id": "baf4bef7",
   "metadata": {},
   "outputs": [],
   "source": [
    "def peak_hour2(hour, month):\n",
    "    return hour in summer_hours if month in summer_months else hour in winter_hours\n"
   ]
  },
  {
   "cell_type": "code",
   "execution_count": 30,
   "id": "64a4dbbe",
   "metadata": {},
   "outputs": [
    {
     "data": {
      "text/plain": [
       "True"
      ]
     },
     "execution_count": 30,
     "metadata": {},
     "output_type": "execute_result"
    }
   ],
   "source": [
    "peak_hour2(4,1)"
   ]
  },
  {
   "cell_type": "code",
   "execution_count": 31,
   "id": "dd04bd13",
   "metadata": {},
   "outputs": [
    {
     "data": {
      "text/plain": [
       "False"
      ]
     },
     "execution_count": 31,
     "metadata": {},
     "output_type": "execute_result"
    }
   ],
   "source": [
    "peak_hour2(12,4)"
   ]
  },
  {
   "cell_type": "code",
   "execution_count": 32,
   "id": "8d48ae95",
   "metadata": {},
   "outputs": [
    {
     "data": {
      "text/plain": [
       "True"
      ]
     },
     "execution_count": 32,
     "metadata": {},
     "output_type": "execute_result"
    }
   ],
   "source": [
    "peak_hour2(22,6)"
   ]
  },
  {
   "cell_type": "code",
   "execution_count": 33,
   "id": "d213240f",
   "metadata": {},
   "outputs": [
    {
     "name": "stdout",
     "output_type": "stream",
     "text": [
      "Capacitors to be ON\n"
     ]
    }
   ],
   "source": [
    "if peak_hour2(22,6):\n",
    "    print(\"Capacitors to be ON\")\n",
    "else:\n",
    "    print(\"Capacitors to be OFF\")"
   ]
  },
  {
   "cell_type": "code",
   "execution_count": 34,
   "id": "5fcbcc0e",
   "metadata": {},
   "outputs": [
    {
     "name": "stdout",
     "output_type": "stream",
     "text": [
      "Capacitors to be OFF\n"
     ]
    }
   ],
   "source": [
    "if peak_hour2(12,4):\n",
    "    print(\"Capacitors to be ON\")\n",
    "else:\n",
    "    print(\"Capacitors to be OFF\")"
   ]
  },
  {
   "cell_type": "code",
   "execution_count": 6,
   "id": "f3311610",
   "metadata": {},
   "outputs": [
    {
     "name": "stdout",
     "output_type": "stream",
     "text": [
      "Capacitors to be OFF\n"
     ]
    }
   ],
   "source": [
    "if peak_hour2(2,8):\n",
    "    print(\"Capacitors to be ON\")\n",
    "else:\n",
    "    print(\"Capacitors to be OFF\")"
   ]
  },
  {
   "cell_type": "code",
   "execution_count": 7,
   "id": "4820341c",
   "metadata": {},
   "outputs": [
    {
     "name": "stdout",
     "output_type": "stream",
     "text": [
      "Capacitors to be ON\n"
     ]
    }
   ],
   "source": [
    "if peak_hour2(22,7):\n",
    "    print(\"Capacitors to be ON\")\n",
    "else:\n",
    "    print(\"Capacitors to be OFF\")"
   ]
  },
  {
   "cell_type": "code",
   "execution_count": 8,
   "id": "6fed4f92",
   "metadata": {},
   "outputs": [
    {
     "name": "stdout",
     "output_type": "stream",
     "text": [
      "Capacitors to be OFF\n"
     ]
    }
   ],
   "source": [
    "if peak_hour2(22,1):\n",
    "    print(\"Capacitors to be ON\")\n",
    "else:\n",
    "    print(\"Capacitors to be OFF\")"
   ]
  },
  {
   "cell_type": "code",
   "execution_count": 9,
   "id": "9658ccc8",
   "metadata": {},
   "outputs": [
    {
     "name": "stdout",
     "output_type": "stream",
     "text": [
      "Capacitors to be ON\n"
     ]
    }
   ],
   "source": [
    "if peak_hour2(13,6):\n",
    "    print(\"Capacitors to be ON\")\n",
    "else:\n",
    "    print(\"Capacitors to be OFF\")"
   ]
  },
  {
   "cell_type": "code",
   "execution_count": 10,
   "id": "595fe0b8",
   "metadata": {},
   "outputs": [
    {
     "name": "stdout",
     "output_type": "stream",
     "text": [
      "Capacitors to be OFF\n"
     ]
    }
   ],
   "source": [
    "if peak_hour2(10,10):\n",
    "    print(\"Capacitors to be ON\")\n",
    "else:\n",
    "    print(\"Capacitors to be OFF\")"
   ]
  },
  {
   "cell_type": "code",
   "execution_count": 15,
   "id": "82935516",
   "metadata": {},
   "outputs": [
    {
     "name": "stdout",
     "output_type": "stream",
     "text": [
      "Winter months : [12, 1, 2, 3]\n",
      "Winter hours : [4, 5, 6, 7, 8, 9, 10]\n",
      "Summer months : [5, 6, 7, 8, 9, 10]\n",
      "Summer hours : [12, 13, 14, 15, 16, 17, 18, 19, 20, 21, 22]\n"
     ]
    }
   ],
   "source": [
    "print(f\"Winter months : {winter_months}\")\n",
    "print(f\"Winter hours : {winter_hours}\")\n",
    "print(f\"Summer months : {summer_months}\")\n",
    "print(f\"Summer hours : {summer_hours}\")"
   ]
  },
  {
   "cell_type": "code",
   "execution_count": 22,
   "id": "3c2f3fad",
   "metadata": {},
   "outputs": [],
   "source": [
    "def test_peak_hour1():\n",
    "    # winter hours\n",
    "    assert peak_hour1(4, 1, 12) == True\n",
    "    assert peak_hour1(10, 5, 3) == True\n",
    "    assert peak_hour1(6, 1, 4) == True\n",
    "    assert peak_hour1(3, 1, 4) == False\n",
    "    assert peak_hour1(11, 1, 4) == False\n",
    "    # summer hours\n",
    "    assert peak_hour1(12, 1, 5) == True\n",
    "    assert peak_hour1(22, 25, 10) == True\n",
    "    assert peak_hour1(16, 10, 11) == False\n",
    "    assert peak_hour1(11, 1, 11) == False\n",
    "    assert peak_hour1(11, 2, 4) == False    \n"
   ]
  },
  {
   "cell_type": "code",
   "execution_count": 25,
   "id": "e6f71bec",
   "metadata": {},
   "outputs": [],
   "source": [
    "winter_months = [12, 1, 2, 3]\n",
    "winter_hours = list(range(4, 11))\n",
    "summer_months = list(range(5, 11))\n",
    "summer_hours = list(range(12, 23))\n",
    "\n",
    "def peak_hour(hour, day, month):\n",
    "    return (month in summer_months or (month == 11 and day == 1)) and hour in summer_hours or \\\n",
    "           (month in winter_months or (month == 4 and day == 1)) and hour in winter_hours\n"
   ]
  },
  {
   "cell_type": "code",
   "execution_count": 43,
   "id": "64d08331",
   "metadata": {},
   "outputs": [
    {
     "data": {
      "text/plain": [
       "True"
      ]
     },
     "execution_count": 43,
     "metadata": {},
     "output_type": "execute_result"
    }
   ],
   "source": [
    "peak_hour(13, 14, 6)"
   ]
  },
  {
   "cell_type": "code",
   "execution_count": 1,
   "id": "2ac3cff4",
   "metadata": {},
   "outputs": [],
   "source": [
    "def my_function(x):\n",
    "    if x < 0:\n",
    "        return \"Error: x cannot be negative.\"\n",
    "    print(\"The value of x is:\", x)\n",
    "    return x * 2\n"
   ]
  },
  {
   "cell_type": "code",
   "execution_count": 2,
   "id": "1a4d9ecf",
   "metadata": {},
   "outputs": [
    {
     "data": {
      "text/plain": [
       "'Error: x cannot be negative.'"
      ]
     },
     "execution_count": 2,
     "metadata": {},
     "output_type": "execute_result"
    }
   ],
   "source": [
    "my_function(-2)"
   ]
  },
  {
   "cell_type": "code",
   "execution_count": 3,
   "id": "86b0649b",
   "metadata": {},
   "outputs": [
    {
     "name": "stdout",
     "output_type": "stream",
     "text": [
      "The value of x is: 2\n"
     ]
    },
    {
     "data": {
      "text/plain": [
       "4"
      ]
     },
     "execution_count": 3,
     "metadata": {},
     "output_type": "execute_result"
    }
   ],
   "source": [
    "my_function(2)"
   ]
  },
  {
   "cell_type": "code",
   "execution_count": 23,
   "id": "7b48fe0a",
   "metadata": {},
   "outputs": [],
   "source": [
    "def func(x):\n",
    "    if x < 0:\n",
    "        return \"Error: x cannot be negative.\"\n",
    "        \n",
    "    else:\n",
    "        print(\"The value of x is:\", x)\n",
    "#         return x * 2\n",
    "    while x < 10:\n",
    "        print(x)\n",
    "        x+=1\n",
    "        if x==5:\n",
    "            print(\"Exiting as x is 5\")\n",
    "            break\n",
    "        "
   ]
  },
  {
   "cell_type": "code",
   "execution_count": 24,
   "id": "c70006de",
   "metadata": {},
   "outputs": [
    {
     "data": {
      "text/plain": [
       "'Error: x cannot be negative.'"
      ]
     },
     "execution_count": 24,
     "metadata": {},
     "output_type": "execute_result"
    }
   ],
   "source": [
    "func(-1)"
   ]
  },
  {
   "cell_type": "code",
   "execution_count": 25,
   "id": "051228e2",
   "metadata": {},
   "outputs": [
    {
     "name": "stdout",
     "output_type": "stream",
     "text": [
      "The value of x is: 1\n",
      "1\n",
      "2\n",
      "3\n",
      "4\n",
      "Exiting as x is 5\n"
     ]
    }
   ],
   "source": [
    "func(1)"
   ]
  },
  {
   "cell_type": "code",
   "execution_count": 1,
   "id": "751013a7",
   "metadata": {},
   "outputs": [],
   "source": [
    "    capacitor_states = [ \n",
    "\n",
    "      { \n",
    "\n",
    "        \"capacitor_id\": \"446014964\", \n",
    "\n",
    "        \"capacitor_status_by_units\": { \n",
    "\n",
    "          \"446898369\": \"ON\", \n",
    "\n",
    "          \"446898370\": \"ON\", \n",
    "\n",
    "          \"446898371\": \"ON\" \n",
    "\n",
    "        } \n",
    "\n",
    "      }, \n",
    "\n",
    "      { \n",
    "\n",
    "        \"capacitor_id\": \"446014961\", \n",
    "\n",
    "        \"capacitor_status_by_units\": { \n",
    "\n",
    "          \"446898372\": \"ON\", \n",
    "\n",
    "          \"446898373\": \"ON\", \n",
    "\n",
    "          \"446898374\": \"ON\" \n",
    "\n",
    "        } \n",
    "      }]"
   ]
  },
  {
   "cell_type": "code",
   "execution_count": 13,
   "id": "a0016cae",
   "metadata": {},
   "outputs": [
    {
     "data": {
      "text/plain": [
       "'ON'"
      ]
     },
     "execution_count": 13,
     "metadata": {},
     "output_type": "execute_result"
    }
   ],
   "source": [
    "list(capacitor_states[0][\"capacitor_status_by_units\"].values())[0]"
   ]
  },
  {
   "cell_type": "code",
   "execution_count": 15,
   "id": "dbece981",
   "metadata": {},
   "outputs": [
    {
     "ename": "IndexError",
     "evalue": "list index out of range",
     "output_type": "error",
     "traceback": [
      "\u001b[1;31m---------------------------------------------------------------------------\u001b[0m",
      "\u001b[1;31mIndexError\u001b[0m                                Traceback (most recent call last)",
      "Input \u001b[1;32mIn [15]\u001b[0m, in \u001b[0;36m<cell line: 2>\u001b[1;34m()\u001b[0m\n\u001b[0;32m      1\u001b[0m capacitor_states1 \u001b[38;5;241m=\u001b[39m []\n\u001b[1;32m----> 2\u001b[0m \u001b[38;5;28mlist\u001b[39m(\u001b[43mcapacitor_states1\u001b[49m\u001b[43m[\u001b[49m\u001b[38;5;241;43m0\u001b[39;49m\u001b[43m]\u001b[49m[\u001b[38;5;124m\"\u001b[39m\u001b[38;5;124mcapacitor_status_by_units\u001b[39m\u001b[38;5;124m\"\u001b[39m]\u001b[38;5;241m.\u001b[39mvalues())[\u001b[38;5;241m0\u001b[39m]\n",
      "\u001b[1;31mIndexError\u001b[0m: list index out of range"
     ]
    }
   ],
   "source": [
    "capacitor_states1 = []\n",
    "list(capacitor_states1[0][\"capacitor_status_by_units\"].values())[0]"
   ]
  },
  {
   "cell_type": "code",
   "execution_count": 1,
   "id": "e19ca68d",
   "metadata": {},
   "outputs": [
    {
     "data": {
      "text/plain": [
       "(1, 2, 3, 4, 5, 6, 7, 8, 9)"
      ]
     },
     "execution_count": 1,
     "metadata": {},
     "output_type": "execute_result"
    }
   ],
   "source": [
    "tuple(range(1,10))"
   ]
  },
  {
   "cell_type": "code",
   "execution_count": null,
   "id": "1f7e046c",
   "metadata": {},
   "outputs": [],
   "source": []
  }
 ],
 "metadata": {
  "kernelspec": {
   "display_name": "Python 3 (ipykernel)",
   "language": "python",
   "name": "python3"
  },
  "language_info": {
   "codemirror_mode": {
    "name": "ipython",
    "version": 3
   },
   "file_extension": ".py",
   "mimetype": "text/x-python",
   "name": "python",
   "nbconvert_exporter": "python",
   "pygments_lexer": "ipython3",
   "version": "3.9.12"
  }
 },
 "nbformat": 4,
 "nbformat_minor": 5
}
